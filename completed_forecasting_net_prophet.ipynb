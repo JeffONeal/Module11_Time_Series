version https://git-lfs.github.com/spec/v1
oid sha256:c9d386dd38c816a3cfdcdf6d5ec21bab7f36e7e450fb011fb94135594b0f9f01
size 30224122
